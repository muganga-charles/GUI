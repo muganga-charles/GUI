{
 "cells": [
  {
   "cell_type": "code",
   "execution_count": null,
   "metadata": {},
   "outputs": [],
   "source": [
    "#tkinter GUI\n",
    "\n",
    "from tkinter import*\n",
    "def name():\n",
    "    nme=textbox1.get()\n",
    "    message=str(\"hello\"+nme)\n",
    "    textbox2[\"fg\"]=\"red\"\n",
    "    textbox2[\"bg\"]=\"white\"\n",
    "    textbox2[\"text\"]=message\n",
    "\n",
    "    \n",
    "\n",
    "window=Tk()\n",
    "window.geometry(\"200x110\")\n",
    "\n",
    "label1=Label(text=\"enter name\")\n",
    "label1.place(x=30,y=20)\n",
    "\n",
    "textbox1=Entry(text=\"\")\n",
    "textbox1.place(x=150,y=20,width=200,height=25)\n",
    "textbox1[\"justify\"]=\"center\"\n",
    "textbox1.focus()\n",
    "\n",
    "Button1=Button(text=\"click here\",command=name)\n",
    "Button1.place(x=30,y=50,width=120,height=25)\n",
    "\n",
    "textbox2=Message(text=\"\")\n",
    "textbox2.place(x=150,y=50,width=200,height=25)\n",
    "textbox2[\"fg\"]=\"black\"\n",
    "textbox2[\"bg\"]=\"red\"\n",
    "window.mainloop()\n"
   ]
  },
  {
   "cell_type": "code",
   "execution_count": null,
   "metadata": {},
   "outputs": [],
   "source": [
    "\n",
    "from tkinter import*\n",
    "root=Tk()\n",
    "label1=Label(root,text=\"enter a number\")\n",
    "box=Entry(width=30)\n",
    "box.pack()\n",
    "def addition():\n",
    "    numb=box.get()\n",
    "    global second_number\n",
    "    numb=int(numb)\n",
    "    answer=output_txt[\"text\"]\n",
    "    answer=int(answer)\n",
    "    total=num+answer\n",
    "    output_txt[\"text\"]=total\n",
    "\n",
    "    \n",
    "def clear():\n",
    "    box.delete(0,END)\n",
    "\n",
    "button_2=Button(root,text=\"click\",command=addition)\n",
    "button_2.pack()\n",
    "button_3=Button(root,text=\"clear\",command=clear)\n",
    "button_3.pack()\n",
    "output_txt=Message(text=0)\n",
    "output_txt.pack()\n",
    "root.mainloop()\n",
    "\n",
    "\n",
    "\n",
    "   \n"
   ]
  },
  {
   "cell_type": "markdown",
   "metadata": {},
   "source": [
    "entry of a number and adds it to the list\n"
   ]
  },
  {
   "cell_type": "code",
   "execution_count": 1,
   "metadata": {},
   "outputs": [],
   "source": [
    "\n",
    "from tkinter import*\n",
    "root=Tk()\n",
    "def list():\n",
    "    name=textbox1.get()\n",
    "    names_list.insert(END,name)\n",
    "    textbox1.delete(0,END)\n",
    "    textbox1.focus()\n",
    "label2=Label(text=\"enter your name\")\n",
    "label2.pack()\n",
    "textbox1=Entry(text=0)\n",
    "textbox1.pack()\n",
    "button=Button(root,text=\"add to list\",command=list)\n",
    "button.pack()\n",
    "names_list=Listbox()\n",
    "names_list.pack()\n",
    "root.mainloop()"
   ]
  },
  {
   "cell_type": "markdown",
   "metadata": {},
   "source": [
    "Addition of numbers"
   ]
  },
  {
   "cell_type": "code",
   "execution_count": null,
   "metadata": {},
   "outputs": [],
   "source": [
    "\n",
    "from tkinter import*\n",
    "root=Tk()\n",
    "label1=Label(root,text=\"enter a number\")\n",
    "box=Entry(width=30)\n",
    "box.pack()\n",
    "def addition():\n",
    "    numb=box.get()\n",
    "    global second_number\n",
    "    numb=int(numb)\n",
    "    answer=output_txt[\"text\"]\n",
    "    answer=int(answer)\n",
    "    total=num+answer\n",
    "    output_txt[\"text\"]=total\n",
    "\n",
    "    \n",
    "def clear():\n",
    "    box.delete(0,END)\n",
    "\n",
    "button_2=Button(root,text=\"click\",command=addition)\n",
    "button_2.pack()\n",
    "button_3=Button(root,text=\"clear\",command=clear)\n",
    "button_3.pack()\n",
    "output_txt=Message(text=0)\n",
    "output_txt.pack()\n",
    "root.mainloop()\n",
    "\n",
    "\n",
    "\n",
    "   "
   ]
  },
  {
   "cell_type": "markdown",
   "metadata": {},
   "source": [
    "Dice flipping program"
   ]
  },
  {
   "cell_type": "code",
   "execution_count": null,
   "metadata": {},
   "outputs": [],
   "source": [
    "#125\n",
    "from tkinter import*\n",
    "import random\n",
    "def number():\n",
    "    num=random.randint(1,6)\n",
    "    answer[\"text\"]=num\n",
    "\n",
    "window=Tk()\n",
    "window.title(\"roll a dice\")\n",
    "window.geometry(\"100x120\")\n",
    "\n",
    "Button1=Button(text=\"Roll\",command=number)\n",
    "Button1.place(x=50,y=50,width=50,height=25)\n",
    "answer=Message(text=\"\")\n",
    "answer.place(x=40,y=70,width=30,height=25)\n",
    "\n",
    "window.mainloop()\n"
   ]
  },
  {
   "cell_type": "code",
   "execution_count": null,
   "metadata": {},
   "outputs": [],
   "source": []
  }
 ],
 "metadata": {
  "kernelspec": {
   "display_name": "Python 3.10.5 64-bit",
   "language": "python",
   "name": "python3"
  },
  "language_info": {
   "codemirror_mode": {
    "name": "ipython",
    "version": 3
   },
   "file_extension": ".py",
   "mimetype": "text/x-python",
   "name": "python",
   "nbconvert_exporter": "python",
   "pygments_lexer": "ipython3",
   "version": "3.10.5"
  },
  "orig_nbformat": 4,
  "vscode": {
   "interpreter": {
    "hash": "63963b3f4c440940f0b94a3100916033a226cb4f45979123153792d60aa56d6a"
   }
  }
 },
 "nbformat": 4,
 "nbformat_minor": 2
}
