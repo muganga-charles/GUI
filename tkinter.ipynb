{
 "cells": [
  {
   "cell_type": "code",
   "execution_count": null,
   "metadata": {},
   "outputs": [],
   "source": [
    "#tkinter GUI\n",
    "\n",
    "from tkinter import*\n",
    "def name():\n",
    "    nme=textbox1.get()\n",
    "    message=str(\"hello\"+nme)\n",
    "    textbox2[\"fg\"]=\"red\"\n",
    "    textbox2[\"bg\"]=\"white\"\n",
    "    textbox2[\"text\"]=message\n",
    "\n",
    "    \n",
    "\n",
    "window=Tk()\n",
    "window.geometry(\"200x110\")\n",
    "\n",
    "label1=Label(text=\"enter name\")\n",
    "label1.place(x=30,y=20)\n",
    "\n",
    "textbox1=Entry(text=\"\")\n",
    "textbox1.place(x=150,y=20,width=200,height=25)\n",
    "textbox1[\"justify\"]=\"center\"\n",
    "textbox1.focus()\n",
    "\n",
    "Button1=Button(text=\"click here\",command=name)\n",
    "Button1.place(x=30,y=50,width=120,height=25)\n",
    "\n",
    "textbox2=Message(text=\"\")\n",
    "textbox2.place(x=150,y=50,width=200,height=25)\n",
    "textbox2[\"fg\"]=\"black\"\n",
    "textbox2[\"bg\"]=\"red\"\n",
    "window.mainloop()\n"
   ]
  },
  {
   "cell_type": "code",
   "execution_count": null,
   "metadata": {},
   "outputs": [],
   "source": [
    "\n",
    "from tkinter import*\n",
    "root=Tk()\n",
    "label1=Label(root,text=\"enter a number\")\n",
    "box=Entry(width=30)\n",
    "box.pack()\n",
    "def addition():\n",
    "    numb=box.get()\n",
    "    global second_number\n",
    "    numb=int(numb)\n",
    "    answer=output_txt[\"text\"]\n",
    "    answer=int(answer)\n",
    "    total=num+answer\n",
    "    output_txt[\"text\"]=total\n",
    "\n",
    "    \n",
    "def clear():\n",
    "    box.delete(0,END)\n",
    "\n",
    "button_2=Button(root,text=\"click\",command=addition)\n",
    "button_2.pack()\n",
    "button_3=Button(root,text=\"clear\",command=clear)\n",
    "button_3.pack()\n",
    "output_txt=Message(text=0)\n",
    "output_txt.pack()\n",
    "root.mainloop()\n",
    "\n",
    "\n",
    "\n",
    "   \n"
   ]
  }
 ],
 "metadata": {
  "language_info": {
   "name": "python"
  },
  "orig_nbformat": 4
 },
 "nbformat": 4,
 "nbformat_minor": 2
}
